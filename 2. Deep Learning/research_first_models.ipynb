{
  "cells": [
    {
      "cell_type": "markdown",
      "source": [
        "# DenseNet"
      ],
      "metadata": {
        "id": "wNX2b0ekWmoo"
      }
    },
    {
      "cell_type": "code",
      "execution_count": null,
      "metadata": {
        "id": "9mGopsldyY00"
      },
      "outputs": [],
      "source": [
        "import tensorflow as tf\n",
        "from tensorflow.keras.applications import ResNet152, DenseNet201\n",
        "from tensorflow.keras.models import Sequential\n",
        "from tensorflow.keras.layers import Dense, MaxPooling2D, Conv2D, Flatten, Dropout, Activation\n",
        "import pandas as pd\n",
        "import numpy as np\n",
        "import matplotlib.pyplot as plt"
      ]
    },
    {
      "cell_type": "code",
      "execution_count": null,
      "metadata": {
        "id": "YkkDepyzkU2G"
      },
      "outputs": [],
      "source": [
        "densenet_h = 224\n",
        "densenet_w = 224"
      ]
    },
    {
      "cell_type": "code",
      "execution_count": null,
      "metadata": {
        "id": "X25l5qiVgLO6"
      },
      "outputs": [],
      "source": [
        "train_dataset = tf.keras.utils.image_dataset_from_directory(\n",
        "    '/content/gdrive/Shareddrives/TC3007C Inteligencia Artificial/Data/data_5/train',\n",
        "    validation_split=0.2, subset='training', \n",
        "    seed=42,\n",
        "    image_size=(densenet_h, densenet_w)\n",
        ")\n",
        "\n",
        "val_dataset = tf.keras.utils.image_dataset_from_directory(\n",
        "    '/content/gdrive/Shareddrives/TC3007C Inteligencia Artificial/Data/data_5/validation', \n",
        "    validation_split=0.2, \n",
        "    subset='validation', \n",
        "    seed=42,\n",
        "    image_size=(densenet_h, densenet_w)\n",
        ")"
      ]
    },
    {
      "cell_type": "code",
      "execution_count": null,
      "metadata": {
        "id": "aOT-lTr9l2H6"
      },
      "outputs": [],
      "source": [
        "classes = len(train_dataset.class_names)\n",
        "classes\n",
        "train_id = f\"{classes} classes \""
      ]
    },
    {
      "cell_type": "code",
      "execution_count": null,
      "metadata": {
        "id": "agFEH762hiGS"
      },
      "outputs": [],
      "source": [
        "# Resize according to model, not needed anymore bc of util\n",
        "images_resized = tf.keras.layers.Resizing(height=224, width=224,\n",
        "                                          crop_to_aspect_ratio=True)"
      ]
    },
    {
      "cell_type": "code",
      "execution_count": null,
      "metadata": {
        "id": "VzvSCVElhs4J"
      },
      "outputs": [],
      "source": [
        "# Add preprocessing, each model has it's own preprocessing\n",
        "train_id += \"with preprocessing\"\n",
        "inputs = tf.keras.applications.DenseNet201.preprocess_input(train_dataset)"
      ]
    },
    {
      "cell_type": "code",
      "execution_count": null,
      "metadata": {
        "id": "N_OOh3XwlLXq"
      },
      "outputs": [],
      "source": [
        "train_id += \"densenet, dense 256, dense\"\n",
        "model = tf.keras.Sequential([\n",
        "    DenseNet201(\n",
        "    include_top=True,\n",
        "    weights=None,\n",
        "    input_shape=(densenet_h, densenet_w, 3),\n",
        "    pooling=None,\n",
        "    classes=classes,\n",
        "    classifier_activation=\"softmax\",\n",
        "    ),\n",
        "    Dense(256, activation=\"relu\"),\n",
        "    Dense(classes)\n",
        "])"
      ]
    },
    {
      "cell_type": "code",
      "execution_count": null,
      "metadata": {
        "id": "Vy9VdLtxo9fa"
      },
      "outputs": [],
      "source": [
        "train_id += \"densenet\"\n",
        "model = tf.keras.Sequential([\n",
        "    DenseNet201(\n",
        "    include_top=True,\n",
        "    weights=None,\n",
        "    input_shape=(densenet_h, densenet_w, 3),\n",
        "    pooling=None,\n",
        "    classes=classes,\n",
        "    classifier_activation=\"softmax\",\n",
        "    )\n",
        "])"
      ]
    },
    {
      "cell_type": "code",
      "execution_count": null,
      "metadata": {
        "id": "-yb4OIa8mKxP"
      },
      "outputs": [],
      "source": [
        "model.compile(optimizer='adam',\n",
        "              loss=tf.keras.losses.SparseCategoricalCrossentropy(from_logits=True),\n",
        "              metrics=['accuracy'])"
      ]
    },
    {
      "cell_type": "code",
      "execution_count": null,
      "metadata": {
        "id": "UjpAGq0MmOHY"
      },
      "outputs": [],
      "source": [
        "print(train_id)\n",
        "e = 2\n",
        "history = model.fit(\n",
        "  train_dataset,\n",
        "  validation_data=val_dataset,\n",
        "  epochs=e,\n",
        "  steps_per_epoch=32\n",
        ")"
      ]
    },
    {
      "cell_type": "markdown",
      "source": [
        "# Inception Resnet"
      ],
      "metadata": {
        "id": "ALHCS_AnWrI2"
      }
    },
    {
      "cell_type": "code",
      "execution_count": null,
      "metadata": {
        "id": "v2bp5r48qwSx"
      },
      "outputs": [],
      "source": [
        "inception_h = 299\n",
        "inception_w = 299"
      ]
    },
    {
      "cell_type": "code",
      "execution_count": null,
      "metadata": {
        "id": "KQKm-ADeq5gY"
      },
      "outputs": [],
      "source": [
        "train_dataset = tf.keras.utils.image_dataset_from_directory(\n",
        "    '/content/gdrive/Shareddrives/TC3007C Inteligencia Artificial/Kaggle/gfive/train',\n",
        "    validation_split=0.2, subset='training', \n",
        "    seed=100,\n",
        "    image_size=(inception_h, inception_w)\n",
        ")\n",
        "\n",
        "val_dataset = tf.keras.utils.image_dataset_from_directory(\n",
        "    '/content/gdrive/Shareddrives/TC3007C Inteligencia Artificial/Kaggle/gfive/validation', \n",
        "    validation_split=0.2, \n",
        "    subset='validation', \n",
        "    seed=100,\n",
        "    image_size=(inception_h, inception_w)\n",
        ")"
      ]
    },
    {
      "cell_type": "code",
      "execution_count": null,
      "metadata": {
        "id": "z70R-r5IrASR"
      },
      "outputs": [],
      "source": [
        "classes = len(train_dataset.class_names)\n",
        "classes"
      ]
    },
    {
      "cell_type": "code",
      "execution_count": null,
      "metadata": {
        "id": "hqpqu1oapXum"
      },
      "outputs": [],
      "source": [
        "model = Sequential([\n",
        "    tf.keras.applications.InceptionResNetV2(\n",
        "        include_top=True,\n",
        "        weights=None,\n",
        "        input_shape=(inception_h, inception_w, 3),\n",
        "        pooling=None,\n",
        "        classes=classes,\n",
        "        classifier_activation=\"softmax\")\n",
        "])"
      ]
    },
    {
      "cell_type": "code",
      "execution_count": null,
      "metadata": {
        "id": "vWrd3MwgsDoE"
      },
      "outputs": [],
      "source": [
        "model.compile(optimizer='adam',\n",
        "              loss=tf.keras.losses.SparseCategoricalCrossentropy(from_logits=True),\n",
        "              metrics=['accuracy'])"
      ]
    },
    {
      "cell_type": "code",
      "execution_count": null,
      "metadata": {
        "id": "HV9jLFlvqHOB"
      },
      "outputs": [],
      "source": [
        "# doesnt work for some reason\n",
        "model.compile(optimizer = 'adam',\n",
        "              loss = 'categorical_crossentropy',\n",
        "              metrics = 'accuracy')"
      ]
    },
    {
      "cell_type": "code",
      "execution_count": null,
      "metadata": {
        "id": "5lT8pTXCrNph"
      },
      "outputs": [],
      "source": [
        "# train_dataset.cardinality().numpy()"
      ]
    },
    {
      "cell_type": "code",
      "execution_count": null,
      "metadata": {
        "id": "mt0oRyIMqNDa"
      },
      "outputs": [],
      "source": [
        "e = 4\n",
        "history = model.fit(\n",
        "  train_dataset,\n",
        "  validation_data=val_dataset,\n",
        "  epochs=e,\n",
        "  steps_per_epoch=32\n",
        ")"
      ]
    }
  ],
  "metadata": {
    "accelerator": "GPU",
    "colab": {
      "machine_shape": "hm",
      "provenance": []
    },
    "gpuClass": "premium",
    "kernelspec": {
      "display_name": "Python 3",
      "name": "python3"
    },
    "language_info": {
      "name": "python"
    }
  },
  "nbformat": 4,
  "nbformat_minor": 0
}