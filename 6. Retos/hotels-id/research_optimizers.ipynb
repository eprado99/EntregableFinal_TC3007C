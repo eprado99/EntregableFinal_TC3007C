{
  "cells": [
    {
      "cell_type": "markdown",
      "metadata": {
        "id": "2W9yiBumx9B5"
      },
      "source": [
        "# FastAI\n",
        "\n"
      ]
    },
    {
      "cell_type": "code",
      "execution_count": null,
      "metadata": {
        "id": "Qc7ERUyYpMqv"
      },
      "outputs": [],
      "source": [
        "import os\n",
        "os.environ['KAGGLE_CONFIG_DIR'] = \"/content/gdrive/MyDrive/Kaggle\""
      ]
    },
    {
      "cell_type": "markdown",
      "metadata": {
        "id": "IVhNeuCk2Dd2"
      },
      "source": [
        "### Utils\n"
      ]
    },
    {
      "cell_type": "code",
      "execution_count": null,
      "metadata": {
        "id": "wUZS8CYt2E9k"
      },
      "outputs": [],
      "source": [
        "import zipfile"
      ]
    },
    {
      "cell_type": "markdown",
      "metadata": {
        "id": "x32YyifKyC76"
      },
      "source": [
        "### Mount drive\n"
      ]
    },
    {
      "cell_type": "code",
      "execution_count": null,
      "metadata": {
        "id": "n-L_Dp6gwrLh"
      },
      "outputs": [],
      "source": [
        "from google.colab import drive"
      ]
    },
    {
      "cell_type": "code",
      "execution_count": null,
      "metadata": {
        "colab": {
          "base_uri": "https://localhost:8080/"
        },
        "id": "7HA3zQwYx4Rl",
        "outputId": "464ee2e4-7a8e-4ac4-8d61-989d8c88b1e0"
      },
      "outputs": [
        {
          "name": "stdout",
          "output_type": "stream",
          "text": [
            "Mounted at /content/gdrive\n"
          ]
        }
      ],
      "source": [
        "drive.mount('/content/gdrive')"
      ]
    },
    {
      "cell_type": "code",
      "execution_count": null,
      "metadata": {
        "colab": {
          "base_uri": "https://localhost:8080/"
        },
        "id": "JIy-uCpCIYk8",
        "outputId": "a2c918aa-6e1d-4d46-9887-fee3cfca318a"
      },
      "outputs": [
        {
          "name": "stdout",
          "output_type": "stream",
          "text": [
            "gdrive\tsample_data\n"
          ]
        }
      ],
      "source": [
        "!ls"
      ]
    },
    {
      "cell_type": "code",
      "execution_count": null,
      "metadata": {
        "id": "EPpYKJgnr3kd"
      },
      "outputs": [],
      "source": [
        "# os.mkdir('/gdrive/Shareddrives/TC3007C Inteligencia Artificial/Kaggle')"
      ]
    },
    {
      "cell_type": "markdown",
      "metadata": {
        "id": "UWvUsFW-1Azy"
      },
      "source": [
        "### Use Kaggle API\n"
      ]
    },
    {
      "cell_type": "code",
      "execution_count": null,
      "metadata": {
        "colab": {
          "base_uri": "https://localhost:8080/"
        },
        "id": "Llvzuf7R25BQ",
        "outputId": "d84ce18e-eb88-4981-9cb2-7f3f2d242586"
      },
      "outputs": [
        {
          "name": "stdout",
          "output_type": "stream",
          "text": [
            "Looking in indexes: https://pypi.org/simple, https://us-python.pkg.dev/colab-wheels/public/simple/\n",
            "Requirement already satisfied: kaggle in /usr/local/lib/python3.7/dist-packages (1.5.12)\n",
            "Requirement already satisfied: python-dateutil in /usr/local/lib/python3.7/dist-packages (from kaggle) (2.8.2)\n",
            "Requirement already satisfied: tqdm in /usr/local/lib/python3.7/dist-packages (from kaggle) (4.64.1)\n",
            "Requirement already satisfied: six>=1.10 in /usr/local/lib/python3.7/dist-packages (from kaggle) (1.15.0)\n",
            "Requirement already satisfied: requests in /usr/local/lib/python3.7/dist-packages (from kaggle) (2.23.0)\n",
            "Requirement already satisfied: python-slugify in /usr/local/lib/python3.7/dist-packages (from kaggle) (6.1.2)\n",
            "Requirement already satisfied: certifi in /usr/local/lib/python3.7/dist-packages (from kaggle) (2022.9.24)\n",
            "Requirement already satisfied: urllib3 in /usr/local/lib/python3.7/dist-packages (from kaggle) (1.24.3)\n",
            "Requirement already satisfied: text-unidecode>=1.3 in /usr/local/lib/python3.7/dist-packages (from python-slugify->kaggle) (1.3)\n",
            "Requirement already satisfied: idna<3,>=2.5 in /usr/local/lib/python3.7/dist-packages (from requests->kaggle) (2.10)\n",
            "Requirement already satisfied: chardet<4,>=3.0.2 in /usr/local/lib/python3.7/dist-packages (from requests->kaggle) (3.0.4)\n"
          ]
        }
      ],
      "source": [
        "pip install kaggle"
      ]
    },
    {
      "cell_type": "code",
      "execution_count": null,
      "metadata": {
        "colab": {
          "base_uri": "https://localhost:8080/"
        },
        "id": "rIfG7J_ipif9",
        "outputId": "daeb95e1-3a78-4393-f457-463905705f62"
      },
      "outputs": [
        {
          "name": "stdout",
          "output_type": "stream",
          "text": [
            "/content/gdrive/Shareddrives\n"
          ]
        }
      ],
      "source": [
        "%cd gdrive/Shareddrives"
      ]
    },
    {
      "cell_type": "code",
      "execution_count": null,
      "metadata": {
        "colab": {
          "base_uri": "https://localhost:8080/"
        },
        "id": "9wb3UMRVJVL0",
        "outputId": "45bb5deb-75cf-4a69-8869-2a4235c6c050"
      },
      "outputs": [
        {
          "name": "stdout",
          "output_type": "stream",
          "text": [
            "[Errno 2] No such file or directory: 'TC3007C Inteligencia Artificial/Kaggle'\n",
            "/content/gdrive/Shareddrives\n"
          ]
        }
      ],
      "source": [
        "%cd 'TC3007C Inteligencia Artificial/Kaggle'"
      ]
    },
    {
      "cell_type": "code",
      "execution_count": null,
      "metadata": {
        "colab": {
          "base_uri": "https://localhost:8080/"
        },
        "id": "xARt3cYs2coQ",
        "outputId": "012d2b46-8818-4e36-db52-59b8b1572a1c"
      },
      "outputs": [
        {
          "name": "stdout",
          "output_type": "stream",
          "text": [
            "File not exist\n",
            "Traceback (most recent call last):\n",
            "  File \"/usr/local/bin/kaggle\", line 5, in <module>\n",
            "    from kaggle.cli import main\n",
            "  File \"/usr/local/lib/python3.7/dist-packages/kaggle/__init__.py\", line 23, in <module>\n",
            "    api.authenticate()\n",
            "  File \"/usr/local/lib/python3.7/dist-packages/kaggle/api/kaggle_api_extended.py\", line 166, in authenticate\n",
            "    self.config_file, self.config_dir))\n",
            "OSError: Could not find kaggle.json. Make sure it's located in /content/gdrive/MyDrive/Kaggle. Or use the environment method.\n"
          ]
        }
      ],
      "source": [
        "import pathlib\n",
        "file = pathlib.Path(\"hotel-id-to-combat-human-trafficking-2022-fgvc9.zip\")\n",
        "if file.exists():\n",
        "    print(\"File exist\")\n",
        "else:\n",
        "    print(\"File not exist\")\n",
        "    !kaggle competitions download -c hotel-id-to-combat-human-trafficking-2022-fgvc9\n",
        "    if file.exists():\n",
        "        # Unzip\n",
        "        for file in os.listdir():\n",
        "          if file.endswith(\".zip\"):\n",
        "              with zipfile.ZipFile(file, \"r\") as zip_file:\n",
        "                  zip_file.extractall()\n",
        "              os.remove(file)\n"
      ]
    },
    {
      "cell_type": "markdown",
      "metadata": {
        "id": "2Ki959znyVg7"
      },
      "source": [
        "### Install and import FastAI\n"
      ]
    },
    {
      "cell_type": "code",
      "execution_count": null,
      "metadata": {
        "colab": {
          "base_uri": "https://localhost:8080/"
        },
        "id": "9mGopsldyY00",
        "outputId": "c8967d19-9364-44de-8608-459a5d698d6b"
      },
      "outputs": [
        {
          "name": "stdout",
          "output_type": "stream",
          "text": [
            "\u001b[?25l\r\u001b[K     |█▉                              | 10 kB 23.8 MB/s eta 0:00:01\r\u001b[K     |███▋                            | 20 kB 14.7 MB/s eta 0:00:01\r\u001b[K     |█████▌                          | 30 kB 19.8 MB/s eta 0:00:01\r\u001b[K     |███████▎                        | 40 kB 6.5 MB/s eta 0:00:01\r\u001b[K     |█████████▏                      | 51 kB 6.9 MB/s eta 0:00:01\r\u001b[K     |███████████                     | 61 kB 8.1 MB/s eta 0:00:01\r\u001b[K     |████████████▉                   | 71 kB 7.8 MB/s eta 0:00:01\r\u001b[K     |██████████████▋                 | 81 kB 8.0 MB/s eta 0:00:01\r\u001b[K     |████████████████▍               | 92 kB 8.9 MB/s eta 0:00:01\r\u001b[K     |██████████████████▎             | 102 kB 6.9 MB/s eta 0:00:01\r\u001b[K     |████████████████████            | 112 kB 6.9 MB/s eta 0:00:01\r\u001b[K     |██████████████████████          | 122 kB 6.9 MB/s eta 0:00:01\r\u001b[K     |███████████████████████▊        | 133 kB 6.9 MB/s eta 0:00:01\r\u001b[K     |█████████████████████████▋      | 143 kB 6.9 MB/s eta 0:00:01\r\u001b[K     |███████████████████████████▍    | 153 kB 6.9 MB/s eta 0:00:01\r\u001b[K     |█████████████████████████████▎  | 163 kB 6.9 MB/s eta 0:00:01\r\u001b[K     |███████████████████████████████ | 174 kB 6.9 MB/s eta 0:00:01\r\u001b[K     |████████████████████████████████| 179 kB 6.9 MB/s \n",
            "\u001b[?25h"
          ]
        }
      ],
      "source": [
        "!pip install -Uq fastai2\n",
        "from fastai.vision.all import *"
      ]
    },
    {
      "cell_type": "code",
      "execution_count": null,
      "metadata": {
        "id": "lJvrymzryvBI"
      },
      "outputs": [],
      "source": [
        "from keras.optimizers import Adam\n",
        "import pandas as pd\n",
        "import numpy as np\n",
        "import matplotlib.pyplot as plt"
      ]
    },
    {
      "cell_type": "code",
      "execution_count": null,
      "metadata": {
        "id": "BG4359O_q9Qe"
      },
      "outputs": [],
      "source": [
        "path = \"/content/gdrive/Shareddrives/TC3007C Inteligencia Artificial/Data/data_3_pipe\"\n",
        "fns = get_image_files(path)"
      ]
    },
    {
      "cell_type": "code",
      "execution_count": null,
      "metadata": {
        "id": "gr7DQR4MY6Qs"
      },
      "outputs": [],
      "source": [
        "class DataLoaders(GetAttr):\n",
        "  def __init__(self, *loaders): self.loaders = loaders\n",
        "  \n",
        "  def __getitem__(self, i): return self.loaders[i]\n",
        "\n",
        "  train,valid = add_props(lambda i,self: self[i])"
      ]
    },
    {
      "cell_type": "code",
      "execution_count": null,
      "metadata": {
        "id": "GOakBeBsZHwI"
      },
      "outputs": [],
      "source": [
        "hotels = DataBlock(\n",
        "  blocks=(ImageBlock, CategoryBlock),\n",
        "  get_items=get_image_files,\n",
        "  splitter=RandomSplitter(valid_pct=0.2, seed=42),\n",
        "  get_y=parent_label,\n",
        "  item_tfms=Resize(128))"
      ]
    },
    {
      "cell_type": "code",
      "execution_count": null,
      "metadata": {
        "id": "WQg0GSJWZONj"
      },
      "outputs": [],
      "source": [
        "dls = hotels.dataloaders(path)"
      ]
    },
    {
      "cell_type": "markdown",
      "metadata": {
        "id": "aW9wGyOGpAAN"
      },
      "source": [
        "### Optimizer Documentation"
      ]
    },
    {
      "cell_type": "code",
      "execution_count": null,
      "metadata": {
        "id": "fE3H-hKoTR7s"
      },
      "outputs": [],
      "source": [
        "#link Optimizers: https://docs.fast.ai/optimizer.html\n",
        "#link Vision Learner: https://docs.fast.ai/vision.learner.html#vision_learner\n",
        "#link AdamW: "
      ]
    },
    {
      "cell_type": "code",
      "execution_count": null,
      "metadata": {
        "id": "kof_oXQ2FdUu"
      },
      "outputs": [],
      "source": [
        "add_docs(Optimizer, \n",
        "         zero_grad=\"Standard PyTorch API: Zero all the grad attributes of the parameters\",\n",
        "         step=\"Standard PyTorch API: Update the stats and execute the steppers in on all parameters that have a grad\",\n",
        "         state_dict=\"Return the state of the optimizer in a dictionary\",\n",
        "         load_state_dict=\"Load the content of `sd`\",\n",
        "         clear_state=\"Reset the state of the optimizer\")"
      ]
    },
    {
      "cell_type": "code",
      "execution_count": null,
      "metadata": {
        "id": "YOjeT04SFZMc"
      },
      "outputs": [],
      "source": [
        "opt = Optimizer([1,2,3], noop)\n",
        "test_eq(opt.param_lists, [[1,2,3]])\n",
        "opt = Optimizer(range(3), noop)\n",
        "test_eq(opt.param_lists, [[0,1,2]])\n",
        "opt = Optimizer([[1,2],[3]], noop)\n",
        "test_eq(opt.param_lists, [[1,2],[3]])\n",
        "opt = Optimizer(([o,o+1] for o in range(0,4,2)), noop)\n",
        "test_eq(opt.param_lists, [[0,1],[2,3]])"
      ]
    },
    {
      "cell_type": "code",
      "execution_count": null,
      "metadata": {
        "id": "NdIowkFhFSFH"
      },
      "outputs": [],
      "source": [
        "def tst_arg(p, lr=0, **kwargs): return p\n",
        "tst_arg.defaults = dict(lr=1e-2)\n",
        "\n",
        "def tst_arg2(p, lr2=0, **kwargs): return p\n",
        "tst_arg2.defaults = dict(lr2=1e-3)\n",
        "\n",
        "def tst_arg3(p, mom=0, **kwargs): return p\n",
        "tst_arg3.defaults = dict(mom=0.9)\n",
        "\n",
        "def tst_arg4(p, **kwargs): return p\n",
        "\n",
        "opt = Optimizer([1,2,3], [tst_arg,tst_arg2, tst_arg3])\n",
        "test_eq(opt.hypers, [{'lr2': 1e-3, 'mom': 0.9, 'lr': 1e-2}])\n",
        "opt = Optimizer([1,2,3], tst_arg, lr=0.1)\n",
        "test_eq(opt.hypers, [{'lr': 0.1}])\n",
        "opt = Optimizer([[1,2],[3]], tst_arg)\n",
        "test_eq(opt.hypers, [{'lr': 1e-2}, {'lr': 1e-2}])\n",
        "opt = Optimizer([[1,2],[3]], tst_arg, lr=0.1)\n",
        "test_eq(opt.hypers, [{'lr': 0.1}, {'lr': 0.1}])"
      ]
    },
    {
      "cell_type": "code",
      "execution_count": null,
      "metadata": {
        "id": "at_qvA5EGvt0"
      },
      "outputs": [],
      "source": [
        "opt = Optimizer([[1,2],[3]], tst_arg, lr=[0.1,0.2])\n",
        "test_eq(opt.hypers, [{'lr': 0.1}, {'lr': 0.2}])\n",
        "opt = Optimizer([[1,2],[3],[4]], tst_arg, lr=slice(1e-2))\n",
        "test_eq(opt.hypers, [{'lr': 1e-3}, {'lr': 1e-3}, {'lr': 1e-2}])\n",
        "opt = Optimizer([[1,2],[3],[4]], tst_arg, lr=slice(1e-4,1e-2))\n",
        "test_eq(opt.hypers, [{'lr': 1e-4}, {'lr': 1e-3}, {'lr': 1e-2}])\n",
        "test_eq(opt.param_groups, [{'params': [1,2], 'lr': 1e-4}, {'params': [3], 'lr': 1e-3}, {'params': [4], 'lr': 1e-2}])\n",
        "test_fail(lambda: Optimizer([[1,2],[3],[4]], tst_arg, lr=np.array([0.1,0.2])))"
      ]
    },
    {
      "cell_type": "code",
      "execution_count": null,
      "metadata": {
        "id": "AJW6hoMcGxcz"
      },
      "outputs": [],
      "source": [
        "def tst_param(val, grad=None):\n",
        "    \"Create a tensor with `val` and a gradient of `grad` for testing\"\n",
        "    res = tensor([val]).float()\n",
        "    res.grad = tensor([val/10 if grad is None else grad]).float()\n",
        "    return res"
      ]
    },
    {
      "cell_type": "code",
      "execution_count": null,
      "metadata": {
        "id": "V4_ikKRPGzZP"
      },
      "outputs": [],
      "source": [
        "p = tst_param(1., 0.1)\n",
        "sgd_step(p, 1.)\n",
        "test_eq(p, tensor([0.9]))\n",
        "test_eq(p.grad, tensor([0.1]))"
      ]
    },
    {
      "cell_type": "code",
      "execution_count": null,
      "metadata": {
        "colab": {
          "base_uri": "https://localhost:8080/",
          "height": 235
        },
        "id": "8zjaRff1KLtC",
        "outputId": "e8e70b0f-0ca3-48c5-e222-31444623d3c1"
      },
      "outputs": [
        {
          "ename": "NameError",
          "evalue": "ignored",
          "output_type": "error",
          "traceback": [
            "\u001b[0;31m---------------------------------------------------------------------------\u001b[0m",
            "\u001b[0;31mNameError\u001b[0m                                 Traceback (most recent call last)",
            "\u001b[0;32m<ipython-input-24-6373f1f0c3ad>\u001b[0m in \u001b[0;36m<module>\u001b[0;34m\u001b[0m\n\u001b[1;32m      1\u001b[0m \u001b[0mparams\u001b[0m \u001b[0;34m=\u001b[0m \u001b[0mtst_param\u001b[0m\u001b[0;34m(\u001b[0m\u001b[0;34m[\u001b[0m\u001b[0;36m1\u001b[0m\u001b[0;34m,\u001b[0m\u001b[0;36m2\u001b[0m\u001b[0;34m,\u001b[0m\u001b[0;36m3\u001b[0m\u001b[0;34m]\u001b[0m\u001b[0;34m,\u001b[0m \u001b[0;34m[\u001b[0m\u001b[0;36m0.1\u001b[0m\u001b[0;34m,\u001b[0m\u001b[0;36m0.2\u001b[0m\u001b[0;34m,\u001b[0m\u001b[0;36m0.3\u001b[0m\u001b[0;34m]\u001b[0m\u001b[0;34m)\u001b[0m\u001b[0;34m\u001b[0m\u001b[0;34m\u001b[0m\u001b[0m\n\u001b[0;32m----> 2\u001b[0;31m \u001b[0mopt\u001b[0m \u001b[0;34m=\u001b[0m \u001b[0mAdam\u001b[0m\u001b[0;34m(\u001b[0m\u001b[0mpa\u001b[0m\u001b[0;34m,\u001b[0m \u001b[0mlr\u001b[0m\u001b[0;34m=\u001b[0m\u001b[0;36m0.1\u001b[0m\u001b[0;34m,\u001b[0m \u001b[0mwd\u001b[0m\u001b[0;34m=\u001b[0m\u001b[0;36m0\u001b[0m\u001b[0;34m)\u001b[0m\u001b[0;34m\u001b[0m\u001b[0;34m\u001b[0m\u001b[0m\n\u001b[0m\u001b[1;32m      3\u001b[0m \u001b[0mopt\u001b[0m\u001b[0;34m.\u001b[0m\u001b[0mstep\u001b[0m\u001b[0;34m(\u001b[0m\u001b[0;34m)\u001b[0m\u001b[0;34m\u001b[0m\u001b[0;34m\u001b[0m\u001b[0m\n\u001b[1;32m      4\u001b[0m \u001b[0mstep\u001b[0m \u001b[0;34m=\u001b[0m \u001b[0;34m-\u001b[0m\u001b[0;36m0.1\u001b[0m \u001b[0;34m*\u001b[0m \u001b[0;36m0.1\u001b[0m \u001b[0;34m/\u001b[0m \u001b[0;34m(\u001b[0m\u001b[0mmath\u001b[0m\u001b[0;34m.\u001b[0m\u001b[0msqrt\u001b[0m\u001b[0;34m(\u001b[0m\u001b[0;36m0.1\u001b[0m\u001b[0;34m**\u001b[0m\u001b[0;36m2\u001b[0m\u001b[0;34m)\u001b[0m \u001b[0;34m+\u001b[0m \u001b[0;36m1e-8\u001b[0m\u001b[0;34m)\u001b[0m\u001b[0;34m\u001b[0m\u001b[0;34m\u001b[0m\u001b[0m\n\u001b[1;32m      5\u001b[0m \u001b[0mtest_close\u001b[0m\u001b[0;34m(\u001b[0m\u001b[0mparams\u001b[0m\u001b[0;34m[\u001b[0m\u001b[0;36m0\u001b[0m\u001b[0;34m]\u001b[0m\u001b[0;34m,\u001b[0m \u001b[0mtensor\u001b[0m\u001b[0;34m(\u001b[0m\u001b[0;34m[\u001b[0m\u001b[0;36m1\u001b[0m\u001b[0;34m+\u001b[0m\u001b[0mstep\u001b[0m\u001b[0;34m,\u001b[0m \u001b[0;36m2\u001b[0m\u001b[0;34m+\u001b[0m\u001b[0mstep\u001b[0m\u001b[0;34m,\u001b[0m \u001b[0;36m3\u001b[0m\u001b[0;34m+\u001b[0m\u001b[0mstep\u001b[0m\u001b[0;34m]\u001b[0m\u001b[0;34m)\u001b[0m\u001b[0;34m)\u001b[0m\u001b[0;34m\u001b[0m\u001b[0;34m\u001b[0m\u001b[0m\n",
            "\u001b[0;31mNameError\u001b[0m: name 'pa' is not defined"
          ]
        }
      ],
      "source": [
        "params = tst_param([1,2,3], [0.1,0.2,0.3])\n",
        "opt = Adam(pa, lr=0.1, wd=0)\n",
        "opt.step()\n",
        "step = -0.1 * 0.1 / (math.sqrt(0.1**2) + 1e-8)\n",
        "test_close(params[0], tensor([1+step, 2+step, 3+step]))\n",
        "opt.step()\n",
        "test_close(params[0], tensor([1+2*step, 2+2*step, 3+2*step]), eps=1e-3)"
      ]
    },
    {
      "cell_type": "markdown",
      "metadata": {
        "id": "f9AVx6JjoqO3"
      },
      "source": [
        "### QHAdam"
      ]
    },
    {
      "cell_type": "code",
      "execution_count": null,
      "metadata": {
        "id": "N7N3Of_yobXP"
      },
      "outputs": [],
      "source": [
        "params = tst_param([1,2,3], [0.1,0.2,0.3])\n",
        "opt = QHAdam(params, lr=0.1)\n",
        "opt.step()\n",
        "step = -0.1 * (((1-0.7) * 0.1) + (0.7 * 0.1)) / (\n",
        "     math.sqrt(((1-1.0) * 0.1**2) + (1.0 * 0.1**2)) + 1e-8) \n",
        "test_close(params[0], tensor([1+step, 2+step, 3+step]))\n",
        "opt.step()\n",
        "test_close(params[0], tensor([1+2*step, 2+2*step, 3+2*step]), eps=1e-3)"
      ]
    },
    {
      "cell_type": "code",
      "execution_count": null,
      "metadata": {
        "colab": {
          "base_uri": "https://localhost:8080/",
          "height": 1000
        },
        "id": "Krf6Pmj3WfZJ",
        "outputId": "e4bd2062-7a4d-4952-e124-0d6f3204d55c"
      },
      "outputs": [
        {
          "data": {
            "text/html": [
              "\n",
              "<style>\n",
              "    /* Turns off some styling */\n",
              "    progress {\n",
              "        /* gets rid of default border in Firefox and Opera. */\n",
              "        border: none;\n",
              "        /* Needs to be in here for Safari polyfill so background images work as expected. */\n",
              "        background-size: auto;\n",
              "    }\n",
              "    progress:not([value]), progress:not([value])::-webkit-progress-bar {\n",
              "        background: repeating-linear-gradient(45deg, #7e7e7e, #7e7e7e 10px, #5c5c5c 10px, #5c5c5c 20px);\n",
              "    }\n",
              "    .progress-bar-interrupted, .progress-bar-interrupted::-webkit-progress-bar {\n",
              "        background: #F44336;\n",
              "    }\n",
              "</style>\n"
            ],
            "text/plain": [
              "<IPython.core.display.HTML object>"
            ]
          },
          "metadata": {},
          "output_type": "display_data"
        },
        {
          "data": {
            "text/html": [
              "<table border=\"1\" class=\"dataframe\">\n",
              "  <thead>\n",
              "    <tr style=\"text-align: left;\">\n",
              "      <th>epoch</th>\n",
              "      <th>train_loss</th>\n",
              "      <th>valid_loss</th>\n",
              "      <th>accuracy</th>\n",
              "      <th>error_rate</th>\n",
              "      <th>time</th>\n",
              "    </tr>\n",
              "  </thead>\n",
              "  <tbody>\n",
              "    <tr>\n",
              "      <td>0</td>\n",
              "      <td>2.020010</td>\n",
              "      <td>1.356955</td>\n",
              "      <td>0.533333</td>\n",
              "      <td>0.466667</td>\n",
              "      <td>00:09</td>\n",
              "    </tr>\n",
              "  </tbody>\n",
              "</table>"
            ],
            "text/plain": [
              "<IPython.core.display.HTML object>"
            ]
          },
          "metadata": {},
          "output_type": "display_data"
        },
        {
          "data": {
            "text/html": [
              "\n",
              "<style>\n",
              "    /* Turns off some styling */\n",
              "    progress {\n",
              "        /* gets rid of default border in Firefox and Opera. */\n",
              "        border: none;\n",
              "        /* Needs to be in here for Safari polyfill so background images work as expected. */\n",
              "        background-size: auto;\n",
              "    }\n",
              "    progress:not([value]), progress:not([value])::-webkit-progress-bar {\n",
              "        background: repeating-linear-gradient(45deg, #7e7e7e, #7e7e7e 10px, #5c5c5c 10px, #5c5c5c 20px);\n",
              "    }\n",
              "    .progress-bar-interrupted, .progress-bar-interrupted::-webkit-progress-bar {\n",
              "        background: #F44336;\n",
              "    }\n",
              "</style>\n"
            ],
            "text/plain": [
              "<IPython.core.display.HTML object>"
            ]
          },
          "metadata": {},
          "output_type": "display_data"
        },
        {
          "data": {
            "text/html": [
              "<table border=\"1\" class=\"dataframe\">\n",
              "  <thead>\n",
              "    <tr style=\"text-align: left;\">\n",
              "      <th>epoch</th>\n",
              "      <th>train_loss</th>\n",
              "      <th>valid_loss</th>\n",
              "      <th>accuracy</th>\n",
              "      <th>error_rate</th>\n",
              "      <th>time</th>\n",
              "    </tr>\n",
              "  </thead>\n",
              "  <tbody>\n",
              "    <tr>\n",
              "      <td>0</td>\n",
              "      <td>1.407934</td>\n",
              "      <td>1.115113</td>\n",
              "      <td>0.600000</td>\n",
              "      <td>0.400000</td>\n",
              "      <td>00:13</td>\n",
              "    </tr>\n",
              "    <tr>\n",
              "      <td>1</td>\n",
              "      <td>1.180034</td>\n",
              "      <td>0.849017</td>\n",
              "      <td>0.600000</td>\n",
              "      <td>0.400000</td>\n",
              "      <td>00:13</td>\n",
              "    </tr>\n",
              "    <tr>\n",
              "      <td>2</td>\n",
              "      <td>1.042891</td>\n",
              "      <td>0.656189</td>\n",
              "      <td>0.683333</td>\n",
              "      <td>0.316667</td>\n",
              "      <td>00:13</td>\n",
              "    </tr>\n",
              "    <tr>\n",
              "      <td>3</td>\n",
              "      <td>0.881524</td>\n",
              "      <td>0.527953</td>\n",
              "      <td>0.783333</td>\n",
              "      <td>0.216667</td>\n",
              "      <td>00:13</td>\n",
              "    </tr>\n",
              "    <tr>\n",
              "      <td>4</td>\n",
              "      <td>0.754279</td>\n",
              "      <td>0.444106</td>\n",
              "      <td>0.800000</td>\n",
              "      <td>0.200000</td>\n",
              "      <td>00:13</td>\n",
              "    </tr>\n",
              "    <tr>\n",
              "      <td>5</td>\n",
              "      <td>0.638586</td>\n",
              "      <td>0.386672</td>\n",
              "      <td>0.850000</td>\n",
              "      <td>0.150000</td>\n",
              "      <td>00:13</td>\n",
              "    </tr>\n",
              "    <tr>\n",
              "      <td>6</td>\n",
              "      <td>0.545350</td>\n",
              "      <td>0.354233</td>\n",
              "      <td>0.883333</td>\n",
              "      <td>0.116667</td>\n",
              "      <td>00:13</td>\n",
              "    </tr>\n",
              "    <tr>\n",
              "      <td>7</td>\n",
              "      <td>0.469517</td>\n",
              "      <td>0.321755</td>\n",
              "      <td>0.883333</td>\n",
              "      <td>0.116667</td>\n",
              "      <td>00:13</td>\n",
              "    </tr>\n",
              "    <tr>\n",
              "      <td>8</td>\n",
              "      <td>0.408942</td>\n",
              "      <td>0.318832</td>\n",
              "      <td>0.883333</td>\n",
              "      <td>0.116667</td>\n",
              "      <td>00:13</td>\n",
              "    </tr>\n",
              "    <tr>\n",
              "      <td>9</td>\n",
              "      <td>0.357573</td>\n",
              "      <td>0.318399</td>\n",
              "      <td>0.883333</td>\n",
              "      <td>0.116667</td>\n",
              "      <td>00:14</td>\n",
              "    </tr>\n",
              "    <tr>\n",
              "      <td>10</td>\n",
              "      <td>0.315624</td>\n",
              "      <td>0.316131</td>\n",
              "      <td>0.883333</td>\n",
              "      <td>0.116667</td>\n",
              "      <td>00:13</td>\n",
              "    </tr>\n",
              "    <tr>\n",
              "      <td>11</td>\n",
              "      <td>0.281972</td>\n",
              "      <td>0.316714</td>\n",
              "      <td>0.883333</td>\n",
              "      <td>0.116667</td>\n",
              "      <td>00:13</td>\n",
              "    </tr>\n",
              "    <tr>\n",
              "      <td>12</td>\n",
              "      <td>0.252162</td>\n",
              "      <td>0.324093</td>\n",
              "      <td>0.883333</td>\n",
              "      <td>0.116667</td>\n",
              "      <td>00:13</td>\n",
              "    </tr>\n",
              "    <tr>\n",
              "      <td>13</td>\n",
              "      <td>0.226881</td>\n",
              "      <td>0.326647</td>\n",
              "      <td>0.883333</td>\n",
              "      <td>0.116667</td>\n",
              "      <td>00:13</td>\n",
              "    </tr>\n",
              "    <tr>\n",
              "      <td>14</td>\n",
              "      <td>0.205661</td>\n",
              "      <td>0.326532</td>\n",
              "      <td>0.900000</td>\n",
              "      <td>0.100000</td>\n",
              "      <td>00:13</td>\n",
              "    </tr>\n",
              "    <tr>\n",
              "      <td>15</td>\n",
              "      <td>0.186630</td>\n",
              "      <td>0.333559</td>\n",
              "      <td>0.900000</td>\n",
              "      <td>0.100000</td>\n",
              "      <td>00:13</td>\n",
              "    </tr>\n",
              "    <tr>\n",
              "      <td>16</td>\n",
              "      <td>0.169789</td>\n",
              "      <td>0.331211</td>\n",
              "      <td>0.900000</td>\n",
              "      <td>0.100000</td>\n",
              "      <td>00:13</td>\n",
              "    </tr>\n",
              "    <tr>\n",
              "      <td>17</td>\n",
              "      <td>0.155223</td>\n",
              "      <td>0.333700</td>\n",
              "      <td>0.900000</td>\n",
              "      <td>0.100000</td>\n",
              "      <td>00:13</td>\n",
              "    </tr>\n",
              "    <tr>\n",
              "      <td>18</td>\n",
              "      <td>0.142314</td>\n",
              "      <td>0.319189</td>\n",
              "      <td>0.900000</td>\n",
              "      <td>0.100000</td>\n",
              "      <td>00:15</td>\n",
              "    </tr>\n",
              "    <tr>\n",
              "      <td>19</td>\n",
              "      <td>0.130920</td>\n",
              "      <td>0.320961</td>\n",
              "      <td>0.883333</td>\n",
              "      <td>0.116667</td>\n",
              "      <td>00:14</td>\n",
              "    </tr>\n",
              "    <tr>\n",
              "      <td>20</td>\n",
              "      <td>0.120416</td>\n",
              "      <td>0.322142</td>\n",
              "      <td>0.900000</td>\n",
              "      <td>0.100000</td>\n",
              "      <td>00:13</td>\n",
              "    </tr>\n",
              "    <tr>\n",
              "      <td>21</td>\n",
              "      <td>0.111134</td>\n",
              "      <td>0.320899</td>\n",
              "      <td>0.900000</td>\n",
              "      <td>0.100000</td>\n",
              "      <td>00:13</td>\n",
              "    </tr>\n",
              "    <tr>\n",
              "      <td>22</td>\n",
              "      <td>0.102646</td>\n",
              "      <td>0.331236</td>\n",
              "      <td>0.900000</td>\n",
              "      <td>0.100000</td>\n",
              "      <td>00:13</td>\n",
              "    </tr>\n",
              "    <tr>\n",
              "      <td>23</td>\n",
              "      <td>0.094891</td>\n",
              "      <td>0.327964</td>\n",
              "      <td>0.900000</td>\n",
              "      <td>0.100000</td>\n",
              "      <td>00:14</td>\n",
              "    </tr>\n",
              "    <tr>\n",
              "      <td>24</td>\n",
              "      <td>0.087976</td>\n",
              "      <td>0.322661</td>\n",
              "      <td>0.900000</td>\n",
              "      <td>0.100000</td>\n",
              "      <td>00:13</td>\n",
              "    </tr>\n",
              "    <tr>\n",
              "      <td>25</td>\n",
              "      <td>0.081571</td>\n",
              "      <td>0.318138</td>\n",
              "      <td>0.900000</td>\n",
              "      <td>0.100000</td>\n",
              "      <td>00:13</td>\n",
              "    </tr>\n",
              "    <tr>\n",
              "      <td>26</td>\n",
              "      <td>0.075822</td>\n",
              "      <td>0.323246</td>\n",
              "      <td>0.900000</td>\n",
              "      <td>0.100000</td>\n",
              "      <td>00:13</td>\n",
              "    </tr>\n",
              "    <tr>\n",
              "      <td>27</td>\n",
              "      <td>0.070458</td>\n",
              "      <td>0.331638</td>\n",
              "      <td>0.900000</td>\n",
              "      <td>0.100000</td>\n",
              "      <td>00:13</td>\n",
              "    </tr>\n",
              "    <tr>\n",
              "      <td>28</td>\n",
              "      <td>0.065744</td>\n",
              "      <td>0.316402</td>\n",
              "      <td>0.900000</td>\n",
              "      <td>0.100000</td>\n",
              "      <td>00:13</td>\n",
              "    </tr>\n",
              "    <tr>\n",
              "      <td>29</td>\n",
              "      <td>0.061364</td>\n",
              "      <td>0.315919</td>\n",
              "      <td>0.900000</td>\n",
              "      <td>0.100000</td>\n",
              "      <td>00:13</td>\n",
              "    </tr>\n",
              "  </tbody>\n",
              "</table>"
            ],
            "text/plain": [
              "<IPython.core.display.HTML object>"
            ]
          },
          "metadata": {},
          "output_type": "display_data"
        }
      ],
      "source": [
        "import torch, torchvision\n",
        "\n",
        "\n",
        "learn = vision_learner(dls, resnet18, QHAdam(params, lr = 0.001), metrics=[accuracy,error_rate], pretrained=True)\n",
        "learn.fine_tune(30)"
      ]
    },
    {
      "cell_type": "markdown",
      "metadata": {
        "id": "8k3Qvukxoyvr"
      },
      "source": [
        "### AdamW"
      ]
    },
    {
      "cell_type": "code",
      "execution_count": null,
      "metadata": {
        "id": "mJ7tnLocn_zV"
      },
      "outputs": [],
      "source": [
        "import tensorflow as tf"
      ]
    },
    {
      "cell_type": "code",
      "execution_count": null,
      "metadata": {
        "id": "UEgTruU6n_gr"
      },
      "outputs": [],
      "source": [
        "adamW = tf.keras.optimizers.experimental.AdamW(\n",
        "    learning_rate = 0.001,\n",
        "    weight_decay = 0.004,\n",
        "    beta_1 = 0.9,\n",
        "    beta_2 = 0.999,\n",
        "    epsilon= 1e-07,\n",
        "    amsgrad=False,\n",
        "    clipnorm=None,\n",
        "    clipvalue=None,\n",
        "    global_clipnorm=None,\n",
        "    use_ema=False,\n",
        "    ema_momentum=0.99,\n",
        "    ema_overwrite_frequency=None,\n",
        "    jit_compile=True,\n",
        "    name='AdamW'\n",
        ")"
      ]
    },
    {
      "cell_type": "code",
      "execution_count": null,
      "metadata": {
        "colab": {
          "background_save": true,
          "base_uri": "https://localhost:8080/",
          "height": 1000
        },
        "id": "LXWwKFsBeniV",
        "outputId": "8a2c8e1b-4f54-40b5-e5f3-da49aa28d37e"
      },
      "outputs": [
        {
          "data": {
            "text/html": [
              "\n",
              "<style>\n",
              "    /* Turns off some styling */\n",
              "    progress {\n",
              "        /* gets rid of default border in Firefox and Opera. */\n",
              "        border: none;\n",
              "        /* Needs to be in here for Safari polyfill so background images work as expected. */\n",
              "        background-size: auto;\n",
              "    }\n",
              "    progress:not([value]), progress:not([value])::-webkit-progress-bar {\n",
              "        background: repeating-linear-gradient(45deg, #7e7e7e, #7e7e7e 10px, #5c5c5c 10px, #5c5c5c 20px);\n",
              "    }\n",
              "    .progress-bar-interrupted, .progress-bar-interrupted::-webkit-progress-bar {\n",
              "        background: #F44336;\n",
              "    }\n",
              "</style>\n"
            ],
            "text/plain": [
              "<IPython.core.display.HTML object>"
            ]
          },
          "metadata": {},
          "output_type": "display_data"
        },
        {
          "data": {
            "text/html": [
              "<table border=\"1\" class=\"dataframe\">\n",
              "  <thead>\n",
              "    <tr style=\"text-align: left;\">\n",
              "      <th>epoch</th>\n",
              "      <th>train_loss</th>\n",
              "      <th>valid_loss</th>\n",
              "      <th>accuracy</th>\n",
              "      <th>error_rate</th>\n",
              "      <th>time</th>\n",
              "    </tr>\n",
              "  </thead>\n",
              "  <tbody>\n",
              "    <tr>\n",
              "      <td>0</td>\n",
              "      <td>2.006193</td>\n",
              "      <td>1.825195</td>\n",
              "      <td>0.333333</td>\n",
              "      <td>0.666667</td>\n",
              "      <td>00:09</td>\n",
              "    </tr>\n",
              "  </tbody>\n",
              "</table>"
            ],
            "text/plain": [
              "<IPython.core.display.HTML object>"
            ]
          },
          "metadata": {},
          "output_type": "display_data"
        },
        {
          "data": {
            "text/html": [
              "\n",
              "<style>\n",
              "    /* Turns off some styling */\n",
              "    progress {\n",
              "        /* gets rid of default border in Firefox and Opera. */\n",
              "        border: none;\n",
              "        /* Needs to be in here for Safari polyfill so background images work as expected. */\n",
              "        background-size: auto;\n",
              "    }\n",
              "    progress:not([value]), progress:not([value])::-webkit-progress-bar {\n",
              "        background: repeating-linear-gradient(45deg, #7e7e7e, #7e7e7e 10px, #5c5c5c 10px, #5c5c5c 20px);\n",
              "    }\n",
              "    .progress-bar-interrupted, .progress-bar-interrupted::-webkit-progress-bar {\n",
              "        background: #F44336;\n",
              "    }\n",
              "</style>\n"
            ],
            "text/plain": [
              "<IPython.core.display.HTML object>"
            ]
          },
          "metadata": {},
          "output_type": "display_data"
        },
        {
          "data": {
            "text/html": [
              "<table border=\"1\" class=\"dataframe\">\n",
              "  <thead>\n",
              "    <tr style=\"text-align: left;\">\n",
              "      <th>epoch</th>\n",
              "      <th>train_loss</th>\n",
              "      <th>valid_loss</th>\n",
              "      <th>accuracy</th>\n",
              "      <th>error_rate</th>\n",
              "      <th>time</th>\n",
              "    </tr>\n",
              "  </thead>\n",
              "  <tbody>\n",
              "    <tr>\n",
              "      <td>0</td>\n",
              "      <td>1.152454</td>\n",
              "      <td>1.383919</td>\n",
              "      <td>0.483333</td>\n",
              "      <td>0.516667</td>\n",
              "      <td>00:13</td>\n",
              "    </tr>\n",
              "    <tr>\n",
              "      <td>1</td>\n",
              "      <td>1.028548</td>\n",
              "      <td>1.021589</td>\n",
              "      <td>0.583333</td>\n",
              "      <td>0.416667</td>\n",
              "      <td>00:13</td>\n",
              "    </tr>\n",
              "    <tr>\n",
              "      <td>2</td>\n",
              "      <td>0.913559</td>\n",
              "      <td>0.799972</td>\n",
              "      <td>0.650000</td>\n",
              "      <td>0.350000</td>\n",
              "      <td>00:13</td>\n",
              "    </tr>\n",
              "    <tr>\n",
              "      <td>3</td>\n",
              "      <td>0.813889</td>\n",
              "      <td>0.624454</td>\n",
              "      <td>0.733333</td>\n",
              "      <td>0.266667</td>\n",
              "      <td>00:13</td>\n",
              "    </tr>\n",
              "    <tr>\n",
              "      <td>4</td>\n",
              "      <td>0.720886</td>\n",
              "      <td>0.508981</td>\n",
              "      <td>0.800000</td>\n",
              "      <td>0.200000</td>\n",
              "      <td>00:14</td>\n",
              "    </tr>\n",
              "    <tr>\n",
              "      <td>5</td>\n",
              "      <td>0.620709</td>\n",
              "      <td>0.432434</td>\n",
              "      <td>0.816667</td>\n",
              "      <td>0.183333</td>\n",
              "      <td>00:13</td>\n",
              "    </tr>\n",
              "    <tr>\n",
              "      <td>6</td>\n",
              "      <td>0.537087</td>\n",
              "      <td>0.375744</td>\n",
              "      <td>0.866667</td>\n",
              "      <td>0.133333</td>\n",
              "      <td>00:13</td>\n",
              "    </tr>\n",
              "    <tr>\n",
              "      <td>7</td>\n",
              "      <td>0.467460</td>\n",
              "      <td>0.335160</td>\n",
              "      <td>0.883333</td>\n",
              "      <td>0.116667</td>\n",
              "      <td>00:13</td>\n",
              "    </tr>\n",
              "    <tr>\n",
              "      <td>8</td>\n",
              "      <td>0.408942</td>\n",
              "      <td>0.308196</td>\n",
              "      <td>0.883333</td>\n",
              "      <td>0.116667</td>\n",
              "      <td>00:13</td>\n",
              "    </tr>\n",
              "    <tr>\n",
              "      <td>9</td>\n",
              "      <td>0.361394</td>\n",
              "      <td>0.291627</td>\n",
              "      <td>0.883333</td>\n",
              "      <td>0.116667</td>\n",
              "      <td>00:13</td>\n",
              "    </tr>\n",
              "    <tr>\n",
              "      <td>10</td>\n",
              "      <td>0.321725</td>\n",
              "      <td>0.275584</td>\n",
              "      <td>0.883333</td>\n",
              "      <td>0.116667</td>\n",
              "      <td>00:13</td>\n",
              "    </tr>\n",
              "    <tr>\n",
              "      <td>11</td>\n",
              "      <td>0.286662</td>\n",
              "      <td>0.262186</td>\n",
              "      <td>0.883333</td>\n",
              "      <td>0.116667</td>\n",
              "      <td>00:13</td>\n",
              "    </tr>\n",
              "    <tr>\n",
              "      <td>12</td>\n",
              "      <td>0.256977</td>\n",
              "      <td>0.253493</td>\n",
              "      <td>0.883333</td>\n",
              "      <td>0.116667</td>\n",
              "      <td>00:13</td>\n",
              "    </tr>\n",
              "    <tr>\n",
              "      <td>13</td>\n",
              "      <td>0.231531</td>\n",
              "      <td>0.239995</td>\n",
              "      <td>0.933333</td>\n",
              "      <td>0.066667</td>\n",
              "      <td>00:13</td>\n",
              "    </tr>\n",
              "    <tr>\n",
              "      <td>14</td>\n",
              "      <td>0.209673</td>\n",
              "      <td>0.233305</td>\n",
              "      <td>0.933333</td>\n",
              "      <td>0.066667</td>\n",
              "      <td>00:13</td>\n",
              "    </tr>\n",
              "    <tr>\n",
              "      <td>15</td>\n",
              "      <td>0.190139</td>\n",
              "      <td>0.231938</td>\n",
              "      <td>0.933333</td>\n",
              "      <td>0.066667</td>\n",
              "      <td>00:13</td>\n",
              "    </tr>\n",
              "    <tr>\n",
              "      <td>16</td>\n",
              "      <td>0.173283</td>\n",
              "      <td>0.226568</td>\n",
              "      <td>0.933333</td>\n",
              "      <td>0.066667</td>\n",
              "      <td>00:13</td>\n",
              "    </tr>\n",
              "    <tr>\n",
              "      <td>17</td>\n",
              "      <td>0.158202</td>\n",
              "      <td>0.226432</td>\n",
              "      <td>0.933333</td>\n",
              "      <td>0.066667</td>\n",
              "      <td>00:13</td>\n",
              "    </tr>\n",
              "    <tr>\n",
              "      <td>18</td>\n",
              "      <td>0.144763</td>\n",
              "      <td>0.220707</td>\n",
              "      <td>0.933333</td>\n",
              "      <td>0.066667</td>\n",
              "      <td>00:14</td>\n",
              "    </tr>\n",
              "    <tr>\n",
              "      <td>19</td>\n",
              "      <td>0.132967</td>\n",
              "      <td>0.224172</td>\n",
              "      <td>0.933333</td>\n",
              "      <td>0.066667</td>\n",
              "      <td>00:13</td>\n",
              "    </tr>\n",
              "    <tr>\n",
              "      <td>20</td>\n",
              "      <td>0.122282</td>\n",
              "      <td>0.220621</td>\n",
              "      <td>0.933333</td>\n",
              "      <td>0.066667</td>\n",
              "      <td>00:13</td>\n",
              "    </tr>\n",
              "    <tr>\n",
              "      <td>21</td>\n",
              "      <td>0.112777</td>\n",
              "      <td>0.214477</td>\n",
              "      <td>0.933333</td>\n",
              "      <td>0.066667</td>\n",
              "      <td>00:13</td>\n",
              "    </tr>\n",
              "    <tr>\n",
              "      <td>22</td>\n",
              "      <td>0.104077</td>\n",
              "      <td>0.214601</td>\n",
              "      <td>0.933333</td>\n",
              "      <td>0.066667</td>\n",
              "      <td>00:13</td>\n",
              "    </tr>\n",
              "    <tr>\n",
              "      <td>23</td>\n",
              "      <td>0.096365</td>\n",
              "      <td>0.201839</td>\n",
              "      <td>0.933333</td>\n",
              "      <td>0.066667</td>\n",
              "      <td>00:13</td>\n",
              "    </tr>\n",
              "    <tr>\n",
              "      <td>24</td>\n",
              "      <td>0.089511</td>\n",
              "      <td>0.204681</td>\n",
              "      <td>0.916667</td>\n",
              "      <td>0.083333</td>\n",
              "      <td>00:13</td>\n",
              "    </tr>\n",
              "    <tr>\n",
              "      <td>25</td>\n",
              "      <td>0.082957</td>\n",
              "      <td>0.205711</td>\n",
              "      <td>0.933333</td>\n",
              "      <td>0.066667</td>\n",
              "      <td>00:13</td>\n",
              "    </tr>\n",
              "    <tr>\n",
              "      <td>26</td>\n",
              "      <td>0.077022</td>\n",
              "      <td>0.204957</td>\n",
              "      <td>0.933333</td>\n",
              "      <td>0.066667</td>\n",
              "      <td>00:13</td>\n",
              "    </tr>\n",
              "    <tr>\n",
              "      <td>27</td>\n",
              "      <td>0.071743</td>\n",
              "      <td>0.209154</td>\n",
              "      <td>0.933333</td>\n",
              "      <td>0.066667</td>\n",
              "      <td>00:13</td>\n",
              "    </tr>\n",
              "    <tr>\n",
              "      <td>28</td>\n",
              "      <td>0.066757</td>\n",
              "      <td>0.211625</td>\n",
              "      <td>0.933333</td>\n",
              "      <td>0.066667</td>\n",
              "      <td>00:13</td>\n",
              "    </tr>\n",
              "    <tr>\n",
              "      <td>29</td>\n",
              "      <td>0.062155</td>\n",
              "      <td>0.197311</td>\n",
              "      <td>0.950000</td>\n",
              "      <td>0.050000</td>\n",
              "      <td>00:13</td>\n",
              "    </tr>\n",
              "    <tr>\n",
              "      <td>30</td>\n",
              "      <td>0.057970</td>\n",
              "      <td>0.198167</td>\n",
              "      <td>0.950000</td>\n",
              "      <td>0.050000</td>\n",
              "      <td>00:13</td>\n",
              "    </tr>\n",
              "    <tr>\n",
              "      <td>31</td>\n",
              "      <td>0.054051</td>\n",
              "      <td>0.189004</td>\n",
              "      <td>0.950000</td>\n",
              "      <td>0.050000</td>\n",
              "      <td>00:13</td>\n",
              "    </tr>\n",
              "    <tr>\n",
              "      <td>32</td>\n",
              "      <td>0.050428</td>\n",
              "      <td>0.188374</td>\n",
              "      <td>0.950000</td>\n",
              "      <td>0.050000</td>\n",
              "      <td>00:14</td>\n",
              "    </tr>\n",
              "    <tr>\n",
              "      <td>33</td>\n",
              "      <td>0.047080</td>\n",
              "      <td>0.185971</td>\n",
              "      <td>0.950000</td>\n",
              "      <td>0.050000</td>\n",
              "      <td>00:13</td>\n",
              "    </tr>\n",
              "    <tr>\n",
              "      <td>34</td>\n",
              "      <td>0.043995</td>\n",
              "      <td>0.184258</td>\n",
              "      <td>0.950000</td>\n",
              "      <td>0.050000</td>\n",
              "      <td>00:13</td>\n",
              "    </tr>\n",
              "    <tr>\n",
              "      <td>35</td>\n",
              "      <td>0.041162</td>\n",
              "      <td>0.189689</td>\n",
              "      <td>0.933333</td>\n",
              "      <td>0.066667</td>\n",
              "      <td>00:13</td>\n",
              "    </tr>\n",
              "    <tr>\n",
              "      <td>36</td>\n",
              "      <td>0.038641</td>\n",
              "      <td>0.186369</td>\n",
              "      <td>0.950000</td>\n",
              "      <td>0.050000</td>\n",
              "      <td>00:13</td>\n",
              "    </tr>\n",
              "    <tr>\n",
              "      <td>37</td>\n",
              "      <td>0.036203</td>\n",
              "      <td>0.188888</td>\n",
              "      <td>0.933333</td>\n",
              "      <td>0.066667</td>\n",
              "      <td>00:13</td>\n",
              "    </tr>\n",
              "    <tr>\n",
              "      <td>38</td>\n",
              "      <td>0.034237</td>\n",
              "      <td>0.202256</td>\n",
              "      <td>0.933333</td>\n",
              "      <td>0.066667</td>\n",
              "      <td>00:13</td>\n",
              "    </tr>\n",
              "    <tr>\n",
              "      <td>39</td>\n",
              "      <td>0.032081</td>\n",
              "      <td>0.199071</td>\n",
              "      <td>0.933333</td>\n",
              "      <td>0.066667</td>\n",
              "      <td>00:13</td>\n",
              "    </tr>\n",
              "    <tr>\n",
              "      <td>40</td>\n",
              "      <td>0.030085</td>\n",
              "      <td>0.203058</td>\n",
              "      <td>0.933333</td>\n",
              "      <td>0.066667</td>\n",
              "      <td>00:13</td>\n",
              "    </tr>\n",
              "    <tr>\n",
              "      <td>41</td>\n",
              "      <td>0.028212</td>\n",
              "      <td>0.201338</td>\n",
              "      <td>0.933333</td>\n",
              "      <td>0.066667</td>\n",
              "      <td>00:13</td>\n",
              "    </tr>\n",
              "    <tr>\n",
              "      <td>42</td>\n",
              "      <td>0.026504</td>\n",
              "      <td>0.198956</td>\n",
              "      <td>0.950000</td>\n",
              "      <td>0.050000</td>\n",
              "      <td>00:13</td>\n",
              "    </tr>\n",
              "    <tr>\n",
              "      <td>43</td>\n",
              "      <td>0.024878</td>\n",
              "      <td>0.191512</td>\n",
              "      <td>0.950000</td>\n",
              "      <td>0.050000</td>\n",
              "      <td>00:13</td>\n",
              "    </tr>\n",
              "    <tr>\n",
              "      <td>44</td>\n",
              "      <td>0.023481</td>\n",
              "      <td>0.187357</td>\n",
              "      <td>0.950000</td>\n",
              "      <td>0.050000</td>\n",
              "      <td>00:14</td>\n",
              "    </tr>\n",
              "    <tr>\n",
              "      <td>45</td>\n",
              "      <td>0.022050</td>\n",
              "      <td>0.191230</td>\n",
              "      <td>0.933333</td>\n",
              "      <td>0.066667</td>\n",
              "      <td>00:13</td>\n",
              "    </tr>\n",
              "    <tr>\n",
              "      <td>46</td>\n",
              "      <td>0.020709</td>\n",
              "      <td>0.189924</td>\n",
              "      <td>0.933333</td>\n",
              "      <td>0.066667</td>\n",
              "      <td>00:13</td>\n",
              "    </tr>\n",
              "    <tr>\n",
              "      <td>47</td>\n",
              "      <td>0.019491</td>\n",
              "      <td>0.189647</td>\n",
              "      <td>0.933333</td>\n",
              "      <td>0.066667</td>\n",
              "      <td>00:13</td>\n",
              "    </tr>\n",
              "    <tr>\n",
              "      <td>48</td>\n",
              "      <td>0.018322</td>\n",
              "      <td>0.189229</td>\n",
              "      <td>0.933333</td>\n",
              "      <td>0.066667</td>\n",
              "      <td>00:13</td>\n",
              "    </tr>\n",
              "    <tr>\n",
              "      <td>49</td>\n",
              "      <td>0.017222</td>\n",
              "      <td>0.194151</td>\n",
              "      <td>0.933333</td>\n",
              "      <td>0.066667</td>\n",
              "      <td>00:13</td>\n",
              "    </tr>\n",
              "    <tr>\n",
              "      <td>50</td>\n",
              "      <td>0.016206</td>\n",
              "      <td>0.195365</td>\n",
              "      <td>0.950000</td>\n",
              "      <td>0.050000</td>\n",
              "      <td>00:13</td>\n",
              "    </tr>\n",
              "    <tr>\n",
              "      <td>51</td>\n",
              "      <td>0.015261</td>\n",
              "      <td>0.193903</td>\n",
              "      <td>0.950000</td>\n",
              "      <td>0.050000</td>\n",
              "      <td>00:13</td>\n",
              "    </tr>\n",
              "    <tr>\n",
              "      <td>52</td>\n",
              "      <td>0.014373</td>\n",
              "      <td>0.196886</td>\n",
              "      <td>0.950000</td>\n",
              "      <td>0.050000</td>\n",
              "      <td>00:13</td>\n",
              "    </tr>\n",
              "    <tr>\n",
              "      <td>53</td>\n",
              "      <td>0.013534</td>\n",
              "      <td>0.193801</td>\n",
              "      <td>0.950000</td>\n",
              "      <td>0.050000</td>\n",
              "      <td>00:13</td>\n",
              "    </tr>\n",
              "    <tr>\n",
              "      <td>54</td>\n",
              "      <td>0.013001</td>\n",
              "      <td>0.199238</td>\n",
              "      <td>0.950000</td>\n",
              "      <td>0.050000</td>\n",
              "      <td>00:13</td>\n",
              "    </tr>\n",
              "    <tr>\n",
              "      <td>55</td>\n",
              "      <td>0.012239</td>\n",
              "      <td>0.196415</td>\n",
              "      <td>0.950000</td>\n",
              "      <td>0.050000</td>\n",
              "      <td>00:13</td>\n",
              "    </tr>\n",
              "    <tr>\n",
              "      <td>56</td>\n",
              "      <td>0.011547</td>\n",
              "      <td>0.196730</td>\n",
              "      <td>0.950000</td>\n",
              "      <td>0.050000</td>\n",
              "      <td>00:13</td>\n",
              "    </tr>\n",
              "    <tr>\n",
              "      <td>57</td>\n",
              "      <td>0.011019</td>\n",
              "      <td>0.194622</td>\n",
              "      <td>0.950000</td>\n",
              "      <td>0.050000</td>\n",
              "      <td>00:14</td>\n",
              "    </tr>\n",
              "    <tr>\n",
              "      <td>58</td>\n",
              "      <td>0.010371</td>\n",
              "      <td>0.193525</td>\n",
              "      <td>0.950000</td>\n",
              "      <td>0.050000</td>\n",
              "      <td>00:13</td>\n",
              "    </tr>\n",
              "    <tr>\n",
              "      <td>59</td>\n",
              "      <td>0.009817</td>\n",
              "      <td>0.199686</td>\n",
              "      <td>0.950000</td>\n",
              "      <td>0.050000</td>\n",
              "      <td>00:13</td>\n",
              "    </tr>\n",
              "  </tbody>\n",
              "</table>"
            ],
            "text/plain": [
              "<IPython.core.display.HTML object>"
            ]
          },
          "metadata": {},
          "output_type": "display_data"
        }
      ],
      "source": [
        "  learn = cnn_learner(dls, resnet18, adamW, metrics=[accuracy,error_rate], pretrained=True)\n",
        "learn.fine_tune(60)"
      ]
    },
    {
      "cell_type": "markdown",
      "metadata": {
        "id": "yoMl1u-50aAh"
      },
      "source": [
        "### Adam\n"
      ]
    },
    {
      "cell_type": "code",
      "execution_count": null,
      "metadata": {
        "colab": {
          "base_uri": "https://localhost:8080/",
          "height": 1000,
          "referenced_widgets": [
            "80a550db3f2d42f7952a7bcd8954b60a",
            "5e91bd6e4d53407992cd0b6d6ace46cd",
            "4dbf71d87b314bebbf0e3ce585e59d4e",
            "b40f4a18aba449dfb8334251685fc890",
            "6ef71091c85543c1bf650e504c94f258",
            "fc7734828f06497cb25a9efdd9d012f3",
            "ef0878b18fe34a0bacbb6138231e32f3",
            "bb47793ada75427f94d81f711a047805",
            "5793e9a548d94d359a7ec4137e9c0044",
            "b604dc3cc86d4ae89dc5072fbfb25c59",
            "ea74c5a8f45347eda626766c723c20ad"
          ]
        },
        "id": "ef7ElbKtZP27",
        "outputId": "3379c00c-b828-4deb-9888-9f927eee2403"
      },
      "outputs": [
        {
          "name": "stderr",
          "output_type": "stream",
          "text": [
            "/usr/local/lib/python3.7/dist-packages/keras/optimizers/optimizer_v2/adam.py:110: UserWarning: The `lr` argument is deprecated, use `learning_rate` instead.\n",
            "  super(Adam, self).__init__(name, **kwargs)\n",
            "/usr/local/lib/python3.7/dist-packages/fastai/vision/learner.py:288: UserWarning: `cnn_learner` has been renamed to `vision_learner` -- please update your code\n",
            "  warn(\"`cnn_learner` has been renamed to `vision_learner` -- please update your code\")\n",
            "/usr/local/lib/python3.7/dist-packages/torchvision/models/_utils.py:209: UserWarning: The parameter 'pretrained' is deprecated since 0.13 and will be removed in 0.15, please use 'weights' instead.\n",
            "  f\"The parameter '{pretrained_param}' is deprecated since 0.13 and will be removed in 0.15, \"\n",
            "/usr/local/lib/python3.7/dist-packages/torchvision/models/_utils.py:223: UserWarning: Arguments other than a weight enum or `None` for 'weights' are deprecated since 0.13 and will be removed in 0.15. The current behavior is equivalent to passing `weights=ResNet18_Weights.IMAGENET1K_V1`. You can also use `weights=ResNet18_Weights.DEFAULT` to get the most up-to-date weights.\n",
            "  warnings.warn(msg)\n",
            "Downloading: \"https://download.pytorch.org/models/resnet18-f37072fd.pth\" to /root/.cache/torch/hub/checkpoints/resnet18-f37072fd.pth\n"
          ]
        },
        {
          "data": {
            "application/vnd.jupyter.widget-view+json": {
              "model_id": "80a550db3f2d42f7952a7bcd8954b60a",
              "version_major": 2,
              "version_minor": 0
            },
            "text/plain": [
              "  0%|          | 0.00/44.7M [00:00<?, ?B/s]"
            ]
          },
          "metadata": {},
          "output_type": "display_data"
        },
        {
          "data": {
            "text/html": [
              "\n",
              "<style>\n",
              "    /* Turns off some styling */\n",
              "    progress {\n",
              "        /* gets rid of default border in Firefox and Opera. */\n",
              "        border: none;\n",
              "        /* Needs to be in here for Safari polyfill so background images work as expected. */\n",
              "        background-size: auto;\n",
              "    }\n",
              "    progress:not([value]), progress:not([value])::-webkit-progress-bar {\n",
              "        background: repeating-linear-gradient(45deg, #7e7e7e, #7e7e7e 10px, #5c5c5c 10px, #5c5c5c 20px);\n",
              "    }\n",
              "    .progress-bar-interrupted, .progress-bar-interrupted::-webkit-progress-bar {\n",
              "        background: #F44336;\n",
              "    }\n",
              "</style>\n"
            ],
            "text/plain": [
              "<IPython.core.display.HTML object>"
            ]
          },
          "metadata": {},
          "output_type": "display_data"
        },
        {
          "data": {
            "text/html": [
              "<table border=\"1\" class=\"dataframe\">\n",
              "  <thead>\n",
              "    <tr style=\"text-align: left;\">\n",
              "      <th>epoch</th>\n",
              "      <th>train_loss</th>\n",
              "      <th>valid_loss</th>\n",
              "      <th>accuracy</th>\n",
              "      <th>error_rate</th>\n",
              "      <th>time</th>\n",
              "    </tr>\n",
              "  </thead>\n",
              "  <tbody>\n",
              "    <tr>\n",
              "      <td>0</td>\n",
              "      <td>1.961864</td>\n",
              "      <td>2.633617</td>\n",
              "      <td>0.366667</td>\n",
              "      <td>0.633333</td>\n",
              "      <td>00:56</td>\n",
              "    </tr>\n",
              "  </tbody>\n",
              "</table>"
            ],
            "text/plain": [
              "<IPython.core.display.HTML object>"
            ]
          },
          "metadata": {},
          "output_type": "display_data"
        },
        {
          "data": {
            "text/html": [
              "\n",
              "<style>\n",
              "    /* Turns off some styling */\n",
              "    progress {\n",
              "        /* gets rid of default border in Firefox and Opera. */\n",
              "        border: none;\n",
              "        /* Needs to be in here for Safari polyfill so background images work as expected. */\n",
              "        background-size: auto;\n",
              "    }\n",
              "    progress:not([value]), progress:not([value])::-webkit-progress-bar {\n",
              "        background: repeating-linear-gradient(45deg, #7e7e7e, #7e7e7e 10px, #5c5c5c 10px, #5c5c5c 20px);\n",
              "    }\n",
              "    .progress-bar-interrupted, .progress-bar-interrupted::-webkit-progress-bar {\n",
              "        background: #F44336;\n",
              "    }\n",
              "</style>\n"
            ],
            "text/plain": [
              "<IPython.core.display.HTML object>"
            ]
          },
          "metadata": {},
          "output_type": "display_data"
        },
        {
          "data": {
            "text/html": [
              "<table border=\"1\" class=\"dataframe\">\n",
              "  <thead>\n",
              "    <tr style=\"text-align: left;\">\n",
              "      <th>epoch</th>\n",
              "      <th>train_loss</th>\n",
              "      <th>valid_loss</th>\n",
              "      <th>accuracy</th>\n",
              "      <th>error_rate</th>\n",
              "      <th>time</th>\n",
              "    </tr>\n",
              "  </thead>\n",
              "  <tbody>\n",
              "    <tr>\n",
              "      <td>0</td>\n",
              "      <td>1.408918</td>\n",
              "      <td>1.660140</td>\n",
              "      <td>0.466667</td>\n",
              "      <td>0.533333</td>\n",
              "      <td>00:13</td>\n",
              "    </tr>\n",
              "    <tr>\n",
              "      <td>1</td>\n",
              "      <td>1.216836</td>\n",
              "      <td>1.095374</td>\n",
              "      <td>0.600000</td>\n",
              "      <td>0.400000</td>\n",
              "      <td>00:13</td>\n",
              "    </tr>\n",
              "    <tr>\n",
              "      <td>2</td>\n",
              "      <td>1.019377</td>\n",
              "      <td>0.772962</td>\n",
              "      <td>0.716667</td>\n",
              "      <td>0.283333</td>\n",
              "      <td>00:13</td>\n",
              "    </tr>\n",
              "    <tr>\n",
              "      <td>3</td>\n",
              "      <td>0.867313</td>\n",
              "      <td>0.578879</td>\n",
              "      <td>0.800000</td>\n",
              "      <td>0.200000</td>\n",
              "      <td>00:13</td>\n",
              "    </tr>\n",
              "    <tr>\n",
              "      <td>4</td>\n",
              "      <td>0.726904</td>\n",
              "      <td>0.464777</td>\n",
              "      <td>0.816667</td>\n",
              "      <td>0.183333</td>\n",
              "      <td>00:13</td>\n",
              "    </tr>\n",
              "    <tr>\n",
              "      <td>5</td>\n",
              "      <td>0.620236</td>\n",
              "      <td>0.394044</td>\n",
              "      <td>0.866667</td>\n",
              "      <td>0.133333</td>\n",
              "      <td>00:13</td>\n",
              "    </tr>\n",
              "    <tr>\n",
              "      <td>6</td>\n",
              "      <td>0.524916</td>\n",
              "      <td>0.349823</td>\n",
              "      <td>0.866667</td>\n",
              "      <td>0.133333</td>\n",
              "      <td>00:13</td>\n",
              "    </tr>\n",
              "    <tr>\n",
              "      <td>7</td>\n",
              "      <td>0.448233</td>\n",
              "      <td>0.327718</td>\n",
              "      <td>0.866667</td>\n",
              "      <td>0.133333</td>\n",
              "      <td>00:14</td>\n",
              "    </tr>\n",
              "    <tr>\n",
              "      <td>8</td>\n",
              "      <td>0.394627</td>\n",
              "      <td>0.293842</td>\n",
              "      <td>0.883333</td>\n",
              "      <td>0.116667</td>\n",
              "      <td>00:13</td>\n",
              "    </tr>\n",
              "    <tr>\n",
              "      <td>9</td>\n",
              "      <td>0.347723</td>\n",
              "      <td>0.257715</td>\n",
              "      <td>0.900000</td>\n",
              "      <td>0.100000</td>\n",
              "      <td>00:13</td>\n",
              "    </tr>\n",
              "    <tr>\n",
              "      <td>10</td>\n",
              "      <td>0.307290</td>\n",
              "      <td>0.238700</td>\n",
              "      <td>0.900000</td>\n",
              "      <td>0.100000</td>\n",
              "      <td>00:13</td>\n",
              "    </tr>\n",
              "    <tr>\n",
              "      <td>11</td>\n",
              "      <td>0.272919</td>\n",
              "      <td>0.222622</td>\n",
              "      <td>0.900000</td>\n",
              "      <td>0.100000</td>\n",
              "      <td>00:13</td>\n",
              "    </tr>\n",
              "    <tr>\n",
              "      <td>12</td>\n",
              "      <td>0.244158</td>\n",
              "      <td>0.224117</td>\n",
              "      <td>0.900000</td>\n",
              "      <td>0.100000</td>\n",
              "      <td>00:13</td>\n",
              "    </tr>\n",
              "    <tr>\n",
              "      <td>13</td>\n",
              "      <td>0.219594</td>\n",
              "      <td>0.220742</td>\n",
              "      <td>0.900000</td>\n",
              "      <td>0.100000</td>\n",
              "      <td>00:13</td>\n",
              "    </tr>\n",
              "    <tr>\n",
              "      <td>14</td>\n",
              "      <td>0.199021</td>\n",
              "      <td>0.207470</td>\n",
              "      <td>0.900000</td>\n",
              "      <td>0.100000</td>\n",
              "      <td>00:13</td>\n",
              "    </tr>\n",
              "    <tr>\n",
              "      <td>15</td>\n",
              "      <td>0.180732</td>\n",
              "      <td>0.196349</td>\n",
              "      <td>0.900000</td>\n",
              "      <td>0.100000</td>\n",
              "      <td>00:13</td>\n",
              "    </tr>\n",
              "    <tr>\n",
              "      <td>16</td>\n",
              "      <td>0.164680</td>\n",
              "      <td>0.194332</td>\n",
              "      <td>0.900000</td>\n",
              "      <td>0.100000</td>\n",
              "      <td>00:13</td>\n",
              "    </tr>\n",
              "    <tr>\n",
              "      <td>17</td>\n",
              "      <td>0.150472</td>\n",
              "      <td>0.194484</td>\n",
              "      <td>0.900000</td>\n",
              "      <td>0.100000</td>\n",
              "      <td>00:13</td>\n",
              "    </tr>\n",
              "    <tr>\n",
              "      <td>18</td>\n",
              "      <td>0.138111</td>\n",
              "      <td>0.186671</td>\n",
              "      <td>0.900000</td>\n",
              "      <td>0.100000</td>\n",
              "      <td>00:13</td>\n",
              "    </tr>\n",
              "    <tr>\n",
              "      <td>19</td>\n",
              "      <td>0.127100</td>\n",
              "      <td>0.189401</td>\n",
              "      <td>0.900000</td>\n",
              "      <td>0.100000</td>\n",
              "      <td>00:13</td>\n",
              "    </tr>\n",
              "    <tr>\n",
              "      <td>20</td>\n",
              "      <td>0.117143</td>\n",
              "      <td>0.195218</td>\n",
              "      <td>0.900000</td>\n",
              "      <td>0.100000</td>\n",
              "      <td>00:13</td>\n",
              "    </tr>\n",
              "    <tr>\n",
              "      <td>21</td>\n",
              "      <td>0.108014</td>\n",
              "      <td>0.199386</td>\n",
              "      <td>0.883333</td>\n",
              "      <td>0.116667</td>\n",
              "      <td>00:13</td>\n",
              "    </tr>\n",
              "    <tr>\n",
              "      <td>22</td>\n",
              "      <td>0.099689</td>\n",
              "      <td>0.195167</td>\n",
              "      <td>0.900000</td>\n",
              "      <td>0.100000</td>\n",
              "      <td>00:13</td>\n",
              "    </tr>\n",
              "    <tr>\n",
              "      <td>23</td>\n",
              "      <td>0.092201</td>\n",
              "      <td>0.185337</td>\n",
              "      <td>0.900000</td>\n",
              "      <td>0.100000</td>\n",
              "      <td>00:13</td>\n",
              "    </tr>\n",
              "    <tr>\n",
              "      <td>24</td>\n",
              "      <td>0.085351</td>\n",
              "      <td>0.183023</td>\n",
              "      <td>0.900000</td>\n",
              "      <td>0.100000</td>\n",
              "      <td>00:13</td>\n",
              "    </tr>\n",
              "    <tr>\n",
              "      <td>25</td>\n",
              "      <td>0.079244</td>\n",
              "      <td>0.195457</td>\n",
              "      <td>0.900000</td>\n",
              "      <td>0.100000</td>\n",
              "      <td>00:13</td>\n",
              "    </tr>\n",
              "    <tr>\n",
              "      <td>26</td>\n",
              "      <td>0.073746</td>\n",
              "      <td>0.193226</td>\n",
              "      <td>0.883333</td>\n",
              "      <td>0.116667</td>\n",
              "      <td>00:13</td>\n",
              "    </tr>\n",
              "    <tr>\n",
              "      <td>27</td>\n",
              "      <td>0.068903</td>\n",
              "      <td>0.192565</td>\n",
              "      <td>0.883333</td>\n",
              "      <td>0.116667</td>\n",
              "      <td>00:13</td>\n",
              "    </tr>\n",
              "    <tr>\n",
              "      <td>28</td>\n",
              "      <td>0.064371</td>\n",
              "      <td>0.196617</td>\n",
              "      <td>0.883333</td>\n",
              "      <td>0.116667</td>\n",
              "      <td>00:13</td>\n",
              "    </tr>\n",
              "    <tr>\n",
              "      <td>29</td>\n",
              "      <td>0.059973</td>\n",
              "      <td>0.190479</td>\n",
              "      <td>0.900000</td>\n",
              "      <td>0.100000</td>\n",
              "      <td>00:13</td>\n",
              "    </tr>\n",
              "  </tbody>\n",
              "</table>"
            ],
            "text/plain": [
              "<IPython.core.display.HTML object>"
            ]
          },
          "metadata": {},
          "output_type": "display_data"
        }
      ],
      "source": [
        "import torch, torchvision\n",
        "\n",
        "learn = cnn_learner(dls, resnet18, Adam(lr = 0.001), metrics=[accuracy,error_rate], pretrained=True)\n",
        "learn.fine_tune(30)"
      ]
    },
    {
      "cell_type": "code",
      "execution_count": null,
      "metadata": {
        "id": "EQRDLpnVBuF4"
      },
      "outputs": [],
      "source": [
        "dls.valid.show_batch(max_n=4, nrows=1)"
      ]
    },
    {
      "cell_type": "markdown",
      "metadata": {
        "id": "mTlWad4vTAYY"
      },
      "source": [
        "### Sin Optimizer"
      ]
    },
    {
      "cell_type": "code",
      "execution_count": null,
      "metadata": {
        "id": "E_SGcBTCCZT-"
      },
      "outputs": [],
      "source": [
        "learn = cnn_learner(dls, resnet18, metrics=[accuracy,error_rate], pretrained=True)\n",
        "learn.fine_tune(10)"
      ]
    },
    {
      "cell_type": "code",
      "execution_count": null,
      "metadata": {
        "id": "r83PkDnMDTni"
      },
      "outputs": [],
      "source": [
        "interp = ClassificationInterpretation.from_learner(learn)\n",
        "interp.plot_confusion_matrix()"
      ]
    },
    {
      "cell_type": "code",
      "execution_count": null,
      "metadata": {
        "id": "BKNsHkNWZYKm"
      },
      "outputs": [],
      "source": [
        "interp.plot_top_losses(5, nrows=1)"
      ]
    }
  ],
  "metadata": {
    "accelerator": "GPU",
    "colab": {
      "machine_shape": "hm",
      "provenance": []
    },
    "gpuClass": "premium",
    "kernelspec": {
      "display_name": "Python 3",
      "name": "python3"
    },
    "language_info": {
      "name": "python"
    },
    "widgets": {
      "application/vnd.jupyter.widget-state+json": {
        "4dbf71d87b314bebbf0e3ce585e59d4e": {
          "model_module": "@jupyter-widgets/controls",
          "model_module_version": "1.5.0",
          "model_name": "FloatProgressModel",
          "state": {
            "_dom_classes": [],
            "_model_module": "@jupyter-widgets/controls",
            "_model_module_version": "1.5.0",
            "_model_name": "FloatProgressModel",
            "_view_count": null,
            "_view_module": "@jupyter-widgets/controls",
            "_view_module_version": "1.5.0",
            "_view_name": "ProgressView",
            "bar_style": "success",
            "description": "",
            "description_tooltip": null,
            "layout": "IPY_MODEL_bb47793ada75427f94d81f711a047805",
            "max": 46830571,
            "min": 0,
            "orientation": "horizontal",
            "style": "IPY_MODEL_5793e9a548d94d359a7ec4137e9c0044",
            "value": 46830571
          }
        },
        "5793e9a548d94d359a7ec4137e9c0044": {
          "model_module": "@jupyter-widgets/controls",
          "model_module_version": "1.5.0",
          "model_name": "ProgressStyleModel",
          "state": {
            "_model_module": "@jupyter-widgets/controls",
            "_model_module_version": "1.5.0",
            "_model_name": "ProgressStyleModel",
            "_view_count": null,
            "_view_module": "@jupyter-widgets/base",
            "_view_module_version": "1.2.0",
            "_view_name": "StyleView",
            "bar_color": null,
            "description_width": ""
          }
        },
        "5e91bd6e4d53407992cd0b6d6ace46cd": {
          "model_module": "@jupyter-widgets/controls",
          "model_module_version": "1.5.0",
          "model_name": "HTMLModel",
          "state": {
            "_dom_classes": [],
            "_model_module": "@jupyter-widgets/controls",
            "_model_module_version": "1.5.0",
            "_model_name": "HTMLModel",
            "_view_count": null,
            "_view_module": "@jupyter-widgets/controls",
            "_view_module_version": "1.5.0",
            "_view_name": "HTMLView",
            "description": "",
            "description_tooltip": null,
            "layout": "IPY_MODEL_fc7734828f06497cb25a9efdd9d012f3",
            "placeholder": "​",
            "style": "IPY_MODEL_ef0878b18fe34a0bacbb6138231e32f3",
            "value": "100%"
          }
        },
        "6ef71091c85543c1bf650e504c94f258": {
          "model_module": "@jupyter-widgets/base",
          "model_module_version": "1.2.0",
          "model_name": "LayoutModel",
          "state": {
            "_model_module": "@jupyter-widgets/base",
            "_model_module_version": "1.2.0",
            "_model_name": "LayoutModel",
            "_view_count": null,
            "_view_module": "@jupyter-widgets/base",
            "_view_module_version": "1.2.0",
            "_view_name": "LayoutView",
            "align_content": null,
            "align_items": null,
            "align_self": null,
            "border": null,
            "bottom": null,
            "display": null,
            "flex": null,
            "flex_flow": null,
            "grid_area": null,
            "grid_auto_columns": null,
            "grid_auto_flow": null,
            "grid_auto_rows": null,
            "grid_column": null,
            "grid_gap": null,
            "grid_row": null,
            "grid_template_areas": null,
            "grid_template_columns": null,
            "grid_template_rows": null,
            "height": null,
            "justify_content": null,
            "justify_items": null,
            "left": null,
            "margin": null,
            "max_height": null,
            "max_width": null,
            "min_height": null,
            "min_width": null,
            "object_fit": null,
            "object_position": null,
            "order": null,
            "overflow": null,
            "overflow_x": null,
            "overflow_y": null,
            "padding": null,
            "right": null,
            "top": null,
            "visibility": null,
            "width": null
          }
        },
        "80a550db3f2d42f7952a7bcd8954b60a": {
          "model_module": "@jupyter-widgets/controls",
          "model_module_version": "1.5.0",
          "model_name": "HBoxModel",
          "state": {
            "_dom_classes": [],
            "_model_module": "@jupyter-widgets/controls",
            "_model_module_version": "1.5.0",
            "_model_name": "HBoxModel",
            "_view_count": null,
            "_view_module": "@jupyter-widgets/controls",
            "_view_module_version": "1.5.0",
            "_view_name": "HBoxView",
            "box_style": "",
            "children": [
              "IPY_MODEL_5e91bd6e4d53407992cd0b6d6ace46cd",
              "IPY_MODEL_4dbf71d87b314bebbf0e3ce585e59d4e",
              "IPY_MODEL_b40f4a18aba449dfb8334251685fc890"
            ],
            "layout": "IPY_MODEL_6ef71091c85543c1bf650e504c94f258"
          }
        },
        "b40f4a18aba449dfb8334251685fc890": {
          "model_module": "@jupyter-widgets/controls",
          "model_module_version": "1.5.0",
          "model_name": "HTMLModel",
          "state": {
            "_dom_classes": [],
            "_model_module": "@jupyter-widgets/controls",
            "_model_module_version": "1.5.0",
            "_model_name": "HTMLModel",
            "_view_count": null,
            "_view_module": "@jupyter-widgets/controls",
            "_view_module_version": "1.5.0",
            "_view_name": "HTMLView",
            "description": "",
            "description_tooltip": null,
            "layout": "IPY_MODEL_b604dc3cc86d4ae89dc5072fbfb25c59",
            "placeholder": "​",
            "style": "IPY_MODEL_ea74c5a8f45347eda626766c723c20ad",
            "value": " 44.7M/44.7M [00:00&lt;00:00, 208MB/s]"
          }
        },
        "b604dc3cc86d4ae89dc5072fbfb25c59": {
          "model_module": "@jupyter-widgets/base",
          "model_module_version": "1.2.0",
          "model_name": "LayoutModel",
          "state": {
            "_model_module": "@jupyter-widgets/base",
            "_model_module_version": "1.2.0",
            "_model_name": "LayoutModel",
            "_view_count": null,
            "_view_module": "@jupyter-widgets/base",
            "_view_module_version": "1.2.0",
            "_view_name": "LayoutView",
            "align_content": null,
            "align_items": null,
            "align_self": null,
            "border": null,
            "bottom": null,
            "display": null,
            "flex": null,
            "flex_flow": null,
            "grid_area": null,
            "grid_auto_columns": null,
            "grid_auto_flow": null,
            "grid_auto_rows": null,
            "grid_column": null,
            "grid_gap": null,
            "grid_row": null,
            "grid_template_areas": null,
            "grid_template_columns": null,
            "grid_template_rows": null,
            "height": null,
            "justify_content": null,
            "justify_items": null,
            "left": null,
            "margin": null,
            "max_height": null,
            "max_width": null,
            "min_height": null,
            "min_width": null,
            "object_fit": null,
            "object_position": null,
            "order": null,
            "overflow": null,
            "overflow_x": null,
            "overflow_y": null,
            "padding": null,
            "right": null,
            "top": null,
            "visibility": null,
            "width": null
          }
        },
        "bb47793ada75427f94d81f711a047805": {
          "model_module": "@jupyter-widgets/base",
          "model_module_version": "1.2.0",
          "model_name": "LayoutModel",
          "state": {
            "_model_module": "@jupyter-widgets/base",
            "_model_module_version": "1.2.0",
            "_model_name": "LayoutModel",
            "_view_count": null,
            "_view_module": "@jupyter-widgets/base",
            "_view_module_version": "1.2.0",
            "_view_name": "LayoutView",
            "align_content": null,
            "align_items": null,
            "align_self": null,
            "border": null,
            "bottom": null,
            "display": null,
            "flex": null,
            "flex_flow": null,
            "grid_area": null,
            "grid_auto_columns": null,
            "grid_auto_flow": null,
            "grid_auto_rows": null,
            "grid_column": null,
            "grid_gap": null,
            "grid_row": null,
            "grid_template_areas": null,
            "grid_template_columns": null,
            "grid_template_rows": null,
            "height": null,
            "justify_content": null,
            "justify_items": null,
            "left": null,
            "margin": null,
            "max_height": null,
            "max_width": null,
            "min_height": null,
            "min_width": null,
            "object_fit": null,
            "object_position": null,
            "order": null,
            "overflow": null,
            "overflow_x": null,
            "overflow_y": null,
            "padding": null,
            "right": null,
            "top": null,
            "visibility": null,
            "width": null
          }
        },
        "ea74c5a8f45347eda626766c723c20ad": {
          "model_module": "@jupyter-widgets/controls",
          "model_module_version": "1.5.0",
          "model_name": "DescriptionStyleModel",
          "state": {
            "_model_module": "@jupyter-widgets/controls",
            "_model_module_version": "1.5.0",
            "_model_name": "DescriptionStyleModel",
            "_view_count": null,
            "_view_module": "@jupyter-widgets/base",
            "_view_module_version": "1.2.0",
            "_view_name": "StyleView",
            "description_width": ""
          }
        },
        "ef0878b18fe34a0bacbb6138231e32f3": {
          "model_module": "@jupyter-widgets/controls",
          "model_module_version": "1.5.0",
          "model_name": "DescriptionStyleModel",
          "state": {
            "_model_module": "@jupyter-widgets/controls",
            "_model_module_version": "1.5.0",
            "_model_name": "DescriptionStyleModel",
            "_view_count": null,
            "_view_module": "@jupyter-widgets/base",
            "_view_module_version": "1.2.0",
            "_view_name": "StyleView",
            "description_width": ""
          }
        },
        "fc7734828f06497cb25a9efdd9d012f3": {
          "model_module": "@jupyter-widgets/base",
          "model_module_version": "1.2.0",
          "model_name": "LayoutModel",
          "state": {
            "_model_module": "@jupyter-widgets/base",
            "_model_module_version": "1.2.0",
            "_model_name": "LayoutModel",
            "_view_count": null,
            "_view_module": "@jupyter-widgets/base",
            "_view_module_version": "1.2.0",
            "_view_name": "LayoutView",
            "align_content": null,
            "align_items": null,
            "align_self": null,
            "border": null,
            "bottom": null,
            "display": null,
            "flex": null,
            "flex_flow": null,
            "grid_area": null,
            "grid_auto_columns": null,
            "grid_auto_flow": null,
            "grid_auto_rows": null,
            "grid_column": null,
            "grid_gap": null,
            "grid_row": null,
            "grid_template_areas": null,
            "grid_template_columns": null,
            "grid_template_rows": null,
            "height": null,
            "justify_content": null,
            "justify_items": null,
            "left": null,
            "margin": null,
            "max_height": null,
            "max_width": null,
            "min_height": null,
            "min_width": null,
            "object_fit": null,
            "object_position": null,
            "order": null,
            "overflow": null,
            "overflow_x": null,
            "overflow_y": null,
            "padding": null,
            "right": null,
            "top": null,
            "visibility": null,
            "width": null
          }
        }
      }
    }
  },
  "nbformat": 4,
  "nbformat_minor": 0
}